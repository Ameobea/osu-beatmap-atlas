{
 "cells": [
  {
   "cell_type": "code",
   "execution_count": 1,
   "metadata": {},
   "outputs": [
    {
     "name": "stdout",
     "output_type": "stream",
     "text": [
      "Collecting PyMySQL\n",
      "  Downloading PyMySQL-1.1.0-py3-none-any.whl.metadata (4.4 kB)\n",
      "Downloading PyMySQL-1.1.0-py3-none-any.whl (44 kB)\n",
      "\u001b[2K   \u001b[90m━━━━━━━━━━━━━━━━━━━━━━━━━━━━━━━━━━━━━━━━\u001b[0m \u001b[32m44.8/44.8 kB\u001b[0m \u001b[31m1.2 MB/s\u001b[0m eta \u001b[36m0:00:00\u001b[0m\n",
      "\u001b[?25hInstalling collected packages: PyMySQL\n",
      "Successfully installed PyMySQL-1.1.0\n"
     ]
    }
   ],
   "source": [
    "!pip install PyMySQL"
   ]
  },
  {
   "cell_type": "code",
   "execution_count": 2,
   "metadata": {},
   "outputs": [],
   "source": [
    "import os\n",
    "\n",
    "import pandas as pd\n",
    "from sqlalchemy import create_engine\n",
    "from sqlalchemy.exc import SQLAlchemyError\n",
    "\n",
    "# Environment variables or direct credentials setup\n",
    "DB_HOST = os.getenv('DB_HOST', 'ameo.dev')\n",
    "DB_USER = os.getenv('DB_USER', 'root')\n",
    "DB_PASSWORD = os.getenv('DB_PASSWORD', 'password')\n",
    "DB_NAME = 'osutrack_migration'\n",
    "\n",
    "# Establishing the database connection\n",
    "engine = create_engine(f'mysql+pymysql://{DB_USER}:{DB_PASSWORD}@{DB_HOST}/{DB_NAME}')"
   ]
  },
  {
   "cell_type": "code",
   "execution_count": 5,
   "metadata": {},
   "outputs": [
    {
     "name": "stdout",
     "output_type": "stream",
     "text": [
      "Successfully wrote 56995129 rows to ./work/data/hiscore_updates.parquet\n"
     ]
    }
   ],
   "source": [
    "def fetch_hiscore_updates():\n",
    "    try:\n",
    "        with engine.connect() as connection:\n",
    "            return pd.read_sql(\"SELECT * FROM hiscore_updates;\", connection)\n",
    "    except SQLAlchemyError as e:\n",
    "        print(f\"Error fetching data: {e}\")\n",
    "\n",
    "filepath = './work/data/hiscore_updates.parquet'\n",
    "\n",
    "data = fetch_hiscore_updates()\n",
    "data.to_parquet(filepath, index=False, compression='brotli')\n",
    "\n",
    "print(f\"Successfully wrote {len(data)} hiscores to {filepath}\")"
   ]
  },
  {
   "cell_type": "code",
   "execution_count": 3,
   "metadata": {},
   "outputs": [
    {
     "name": "stdout",
     "output_type": "stream",
     "text": [
      "Successfully wrote 157524 beatmaps to ./work/data/beatmaps.parquet\n"
     ]
    }
   ],
   "source": [
    "def fetch_beatmaps():\n",
    "    try:\n",
    "        with engine.connect() as connection:\n",
    "            return pd.read_sql(\"SELECT * FROM beatmaps;\", connection)\n",
    "    except SQLAlchemyError as e:\n",
    "        print(f\"Error fetching data: {e}\")\n",
    "\n",
    "filepath = './work/data/beatmaps.parquet'\n",
    "\n",
    "data = fetch_beatmaps()\n",
    "\n",
    "data.to_parquet(filepath, index=False, compression='brotli')\n",
    "print(f\"Successfully wrote {len(data)} beatmaps to {filepath}\")"
   ]
  }
 ],
 "metadata": {
  "kernelspec": {
   "display_name": "Python 3 (ipykernel)",
   "language": "python",
   "name": "python3"
  }
 },
 "nbformat": 4,
 "nbformat_minor": 2
}
