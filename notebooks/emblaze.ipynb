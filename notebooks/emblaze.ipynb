{
 "cells": [
  {
   "cell_type": "code",
   "execution_count": 1,
   "metadata": {
    "scrolled": true
   },
   "outputs": [
    {
     "name": "stdout",
     "output_type": "stream",
     "text": [
      "Collecting gensim\n",
      "  Downloading gensim-4.3.2-cp311-cp311-manylinux_2_17_x86_64.manylinux2014_x86_64.whl.metadata (8.3 kB)\n",
      "Collecting emblaze\n",
      "  Downloading emblaze-0.10.6-py2.py3-none-any.whl.metadata (8.9 kB)\n",
      "Requirement already satisfied: numpy>=1.18.5 in /opt/conda/lib/python3.11/site-packages (from gensim) (1.26.4)\n",
      "Requirement already satisfied: scipy>=1.7.0 in /opt/conda/lib/python3.11/site-packages (from gensim) (1.12.0)\n",
      "Collecting smart-open>=1.8.1 (from gensim)\n",
      "  Downloading smart_open-7.0.4-py3-none-any.whl.metadata (23 kB)\n",
      "Requirement already satisfied: ipywidgets>=7.7.2 in /opt/conda/lib/python3.11/site-packages (from emblaze) (8.1.2)\n",
      "Collecting affine>=2.3.0 (from emblaze)\n",
      "  Downloading affine-2.4.0-py3-none-any.whl.metadata (4.0 kB)\n",
      "Collecting colormath>=3.0.0 (from emblaze)\n",
      "  Downloading colormath-3.0.0.tar.gz (39 kB)\n",
      "  Preparing metadata (setup.py) ... \u001b[?25ldone\n",
      "\u001b[?25hRequirement already satisfied: pandas>=1.2.0 in /opt/conda/lib/python3.11/site-packages (from emblaze) (2.2.1)\n",
      "Requirement already satisfied: scikit-learn>=0.24.1 in /opt/conda/lib/python3.11/site-packages (from emblaze) (1.4.1.post1)\n",
      "Requirement already satisfied: pillow>=8.2.0 in /opt/conda/lib/python3.11/site-packages (from emblaze) (10.2.0)\n",
      "Collecting umap-learn>=0.5.1 (from emblaze)\n",
      "  Downloading umap_learn-0.5.6-py3-none-any.whl.metadata (21 kB)\n",
      "Collecting flask>=1.1.2 (from emblaze)\n",
      "  Downloading flask-3.0.3-py3-none-any.whl.metadata (3.2 kB)\n",
      "Collecting flask-socketio>=5.1.1 (from emblaze)\n",
      "  Downloading Flask_SocketIO-5.3.6-py3-none-any.whl.metadata (2.6 kB)\n",
      "Collecting eventlet>=0.33.0 (from emblaze)\n",
      "  Downloading eventlet-0.36.1-py3-none-any.whl.metadata (5.5 kB)\n",
      "Requirement already satisfied: numba>=0.53.1 in /opt/conda/lib/python3.11/site-packages (from emblaze) (0.59.0)\n",
      "Requirement already satisfied: tqdm>=4.61.2 in /opt/conda/lib/python3.11/site-packages (from emblaze) (4.66.2)\n",
      "Requirement already satisfied: networkx>=2.0 in /opt/conda/lib/python3.11/site-packages (from colormath>=3.0.0->emblaze) (3.2.1)\n",
      "Collecting dnspython>=1.15.0 (from eventlet>=0.33.0->emblaze)\n",
      "  Downloading dnspython-2.6.1-py3-none-any.whl.metadata (5.8 kB)\n",
      "Requirement already satisfied: greenlet>=1.0 in /opt/conda/lib/python3.11/site-packages (from eventlet>=0.33.0->emblaze) (3.0.3)\n",
      "Collecting Werkzeug>=3.0.0 (from flask>=1.1.2->emblaze)\n",
      "  Downloading werkzeug-3.0.2-py3-none-any.whl.metadata (4.1 kB)\n",
      "Requirement already satisfied: Jinja2>=3.1.2 in /opt/conda/lib/python3.11/site-packages (from flask>=1.1.2->emblaze) (3.1.3)\n",
      "Collecting itsdangerous>=2.1.2 (from flask>=1.1.2->emblaze)\n",
      "  Downloading itsdangerous-2.2.0-py3-none-any.whl.metadata (1.9 kB)\n",
      "Requirement already satisfied: click>=8.1.3 in /opt/conda/lib/python3.11/site-packages (from flask>=1.1.2->emblaze) (8.1.7)\n",
      "Requirement already satisfied: blinker>=1.6.2 in /opt/conda/lib/python3.11/site-packages (from flask>=1.1.2->emblaze) (1.7.0)\n",
      "Collecting python-socketio>=5.0.2 (from flask-socketio>=5.1.1->emblaze)\n",
      "  Downloading python_socketio-5.11.2-py3-none-any.whl.metadata (3.2 kB)\n",
      "Requirement already satisfied: comm>=0.1.3 in /opt/conda/lib/python3.11/site-packages (from ipywidgets>=7.7.2->emblaze) (0.2.2)\n",
      "Requirement already satisfied: ipython>=6.1.0 in /opt/conda/lib/python3.11/site-packages (from ipywidgets>=7.7.2->emblaze) (8.22.2)\n",
      "Requirement already satisfied: traitlets>=4.3.1 in /opt/conda/lib/python3.11/site-packages (from ipywidgets>=7.7.2->emblaze) (5.14.2)\n",
      "Requirement already satisfied: widgetsnbextension~=4.0.10 in /opt/conda/lib/python3.11/site-packages (from ipywidgets>=7.7.2->emblaze) (4.0.10)\n",
      "Requirement already satisfied: jupyterlab-widgets~=3.0.10 in /opt/conda/lib/python3.11/site-packages (from ipywidgets>=7.7.2->emblaze) (3.0.10)\n",
      "Requirement already satisfied: llvmlite<0.43,>=0.42.0dev0 in /opt/conda/lib/python3.11/site-packages (from numba>=0.53.1->emblaze) (0.42.0)\n",
      "Requirement already satisfied: python-dateutil>=2.8.2 in /opt/conda/lib/python3.11/site-packages (from pandas>=1.2.0->emblaze) (2.9.0)\n",
      "Requirement already satisfied: pytz>=2020.1 in /opt/conda/lib/python3.11/site-packages (from pandas>=1.2.0->emblaze) (2024.1)\n",
      "Requirement already satisfied: tzdata>=2022.7 in /opt/conda/lib/python3.11/site-packages (from pandas>=1.2.0->emblaze) (2024.1)\n",
      "Requirement already satisfied: joblib>=1.2.0 in /opt/conda/lib/python3.11/site-packages (from scikit-learn>=0.24.1->emblaze) (1.3.2)\n",
      "Requirement already satisfied: threadpoolctl>=2.0.0 in /opt/conda/lib/python3.11/site-packages (from scikit-learn>=0.24.1->emblaze) (3.3.0)\n",
      "Collecting wrapt (from smart-open>=1.8.1->gensim)\n",
      "  Downloading wrapt-1.16.0-cp311-cp311-manylinux_2_5_x86_64.manylinux1_x86_64.manylinux_2_17_x86_64.manylinux2014_x86_64.whl.metadata (6.6 kB)\n",
      "Collecting pynndescent>=0.5 (from umap-learn>=0.5.1->emblaze)\n",
      "  Downloading pynndescent-0.5.12-py3-none-any.whl.metadata (6.8 kB)\n",
      "Requirement already satisfied: decorator in /opt/conda/lib/python3.11/site-packages (from ipython>=6.1.0->ipywidgets>=7.7.2->emblaze) (5.1.1)\n",
      "Requirement already satisfied: jedi>=0.16 in /opt/conda/lib/python3.11/site-packages (from ipython>=6.1.0->ipywidgets>=7.7.2->emblaze) (0.19.1)\n",
      "Requirement already satisfied: matplotlib-inline in /opt/conda/lib/python3.11/site-packages (from ipython>=6.1.0->ipywidgets>=7.7.2->emblaze) (0.1.6)\n",
      "Requirement already satisfied: prompt-toolkit<3.1.0,>=3.0.41 in /opt/conda/lib/python3.11/site-packages (from ipython>=6.1.0->ipywidgets>=7.7.2->emblaze) (3.0.42)\n",
      "Requirement already satisfied: pygments>=2.4.0 in /opt/conda/lib/python3.11/site-packages (from ipython>=6.1.0->ipywidgets>=7.7.2->emblaze) (2.17.2)\n",
      "Requirement already satisfied: stack-data in /opt/conda/lib/python3.11/site-packages (from ipython>=6.1.0->ipywidgets>=7.7.2->emblaze) (0.6.2)\n",
      "Requirement already satisfied: pexpect>4.3 in /opt/conda/lib/python3.11/site-packages (from ipython>=6.1.0->ipywidgets>=7.7.2->emblaze) (4.9.0)\n",
      "Requirement already satisfied: MarkupSafe>=2.0 in /opt/conda/lib/python3.11/site-packages (from Jinja2>=3.1.2->flask>=1.1.2->emblaze) (2.1.5)\n",
      "Requirement already satisfied: six>=1.5 in /opt/conda/lib/python3.11/site-packages (from python-dateutil>=2.8.2->pandas>=1.2.0->emblaze) (1.16.0)\n",
      "Collecting bidict>=0.21.0 (from python-socketio>=5.0.2->flask-socketio>=5.1.1->emblaze)\n",
      "  Downloading bidict-0.23.1-py3-none-any.whl.metadata (8.7 kB)\n",
      "Collecting python-engineio>=4.8.0 (from python-socketio>=5.0.2->flask-socketio>=5.1.1->emblaze)\n",
      "  Downloading python_engineio-4.9.0-py3-none-any.whl.metadata (2.2 kB)\n",
      "Requirement already satisfied: parso<0.9.0,>=0.8.3 in /opt/conda/lib/python3.11/site-packages (from jedi>=0.16->ipython>=6.1.0->ipywidgets>=7.7.2->emblaze) (0.8.3)\n",
      "Requirement already satisfied: ptyprocess>=0.5 in /opt/conda/lib/python3.11/site-packages (from pexpect>4.3->ipython>=6.1.0->ipywidgets>=7.7.2->emblaze) (0.7.0)\n",
      "Requirement already satisfied: wcwidth in /opt/conda/lib/python3.11/site-packages (from prompt-toolkit<3.1.0,>=3.0.41->ipython>=6.1.0->ipywidgets>=7.7.2->emblaze) (0.2.13)\n",
      "Collecting simple-websocket>=0.10.0 (from python-engineio>=4.8.0->python-socketio>=5.0.2->flask-socketio>=5.1.1->emblaze)\n",
      "  Downloading simple_websocket-1.0.0-py3-none-any.whl.metadata (1.3 kB)\n",
      "Requirement already satisfied: executing>=1.2.0 in /opt/conda/lib/python3.11/site-packages (from stack-data->ipython>=6.1.0->ipywidgets>=7.7.2->emblaze) (2.0.1)\n",
      "Requirement already satisfied: asttokens>=2.1.0 in /opt/conda/lib/python3.11/site-packages (from stack-data->ipython>=6.1.0->ipywidgets>=7.7.2->emblaze) (2.4.1)\n",
      "Requirement already satisfied: pure-eval in /opt/conda/lib/python3.11/site-packages (from stack-data->ipython>=6.1.0->ipywidgets>=7.7.2->emblaze) (0.2.2)\n",
      "Collecting wsproto (from simple-websocket>=0.10.0->python-engineio>=4.8.0->python-socketio>=5.0.2->flask-socketio>=5.1.1->emblaze)\n",
      "  Downloading wsproto-1.2.0-py3-none-any.whl.metadata (5.6 kB)\n",
      "Requirement already satisfied: h11<1,>=0.9.0 in /opt/conda/lib/python3.11/site-packages (from wsproto->simple-websocket>=0.10.0->python-engineio>=4.8.0->python-socketio>=5.0.2->flask-socketio>=5.1.1->emblaze) (0.14.0)\n",
      "Downloading gensim-4.3.2-cp311-cp311-manylinux_2_17_x86_64.manylinux2014_x86_64.whl (26.7 MB)\n",
      "\u001b[2K   \u001b[90m━━━━━━━━━━━━━━━━━━━━━━━━━━━━━━━━━━━━━━━━\u001b[0m \u001b[32m26.7/26.7 MB\u001b[0m \u001b[31m3.0 MB/s\u001b[0m eta \u001b[36m0:00:00\u001b[0m00:01\u001b[0m00:01\u001b[0m\n",
      "\u001b[?25hDownloading emblaze-0.10.6-py2.py3-none-any.whl (13.9 MB)\n",
      "\u001b[2K   \u001b[90m━━━━━━━━━━━━━━━━━━━━━━━━━━━━━━━━━━━━━━━━\u001b[0m \u001b[32m13.9/13.9 MB\u001b[0m \u001b[31m2.5 MB/s\u001b[0m eta \u001b[36m0:00:00\u001b[0m00:01\u001b[0m00:01\u001b[0m\n",
      "\u001b[?25hDownloading affine-2.4.0-py3-none-any.whl (15 kB)\n",
      "Downloading eventlet-0.36.1-py3-none-any.whl (360 kB)\n",
      "\u001b[2K   \u001b[90m━━━━━━━━━━━━━━━━━━━━━━━━━━━━━━━━━━━━━━━━\u001b[0m \u001b[32m360.5/360.5 kB\u001b[0m \u001b[31m2.8 MB/s\u001b[0m eta \u001b[36m0:00:00\u001b[0ma \u001b[36m0:00:01\u001b[0m\n",
      "\u001b[?25hDownloading flask-3.0.3-py3-none-any.whl (101 kB)\n",
      "\u001b[2K   \u001b[90m━━━━━━━━━━━━━━━━━━━━━━━━━━━━━━━━━━━━━━━━\u001b[0m \u001b[32m101.7/101.7 kB\u001b[0m \u001b[31m3.3 MB/s\u001b[0m eta \u001b[36m0:00:00\u001b[0m\n",
      "\u001b[?25hDownloading Flask_SocketIO-5.3.6-py3-none-any.whl (18 kB)\n",
      "Downloading smart_open-7.0.4-py3-none-any.whl (61 kB)\n",
      "\u001b[2K   \u001b[90m━━━━━━━━━━━━━━━━━━━━━━━━━━━━━━━━━━━━━━━━\u001b[0m \u001b[32m61.2/61.2 kB\u001b[0m \u001b[31m3.4 MB/s\u001b[0m eta \u001b[36m0:00:00\u001b[0m\n",
      "\u001b[?25hDownloading umap_learn-0.5.6-py3-none-any.whl (85 kB)\n",
      "\u001b[2K   \u001b[90m━━━━━━━━━━━━━━━━━━━━━━━━━━━━━━━━━━━━━━━━\u001b[0m \u001b[32m85.7/85.7 kB\u001b[0m \u001b[31m3.8 MB/s\u001b[0m eta \u001b[36m0:00:00\u001b[0m\n",
      "\u001b[?25hDownloading dnspython-2.6.1-py3-none-any.whl (307 kB)\n",
      "\u001b[2K   \u001b[90m━━━━━━━━━━━━━━━━━━━━━━━━━━━━━━━━━━━━━━━━\u001b[0m \u001b[32m307.7/307.7 kB\u001b[0m \u001b[31m3.1 MB/s\u001b[0m eta \u001b[36m0:00:00\u001b[0ma \u001b[36m0:00:01\u001b[0m\n",
      "\u001b[?25hDownloading itsdangerous-2.2.0-py3-none-any.whl (16 kB)\n",
      "Downloading pynndescent-0.5.12-py3-none-any.whl (56 kB)\n",
      "\u001b[2K   \u001b[90m━━━━━━━━━━━━━━━━━━━━━━━━━━━━━━━━━━━━━━━━\u001b[0m \u001b[32m56.8/56.8 kB\u001b[0m \u001b[31m3.8 MB/s\u001b[0m eta \u001b[36m0:00:00\u001b[0m\n",
      "\u001b[?25hDownloading python_socketio-5.11.2-py3-none-any.whl (75 kB)\n",
      "\u001b[2K   \u001b[90m━━━━━━━━━━━━━━━━━━━━━━━━━━━━━━━━━━━━━━━━\u001b[0m \u001b[32m75.7/75.7 kB\u001b[0m \u001b[31m3.7 MB/s\u001b[0m eta \u001b[36m0:00:00\u001b[0m\n",
      "\u001b[?25hDownloading werkzeug-3.0.2-py3-none-any.whl (226 kB)\n",
      "\u001b[2K   \u001b[90m━━━━━━━━━━━━━━━━━━━━━━━━━━━━━━━━━━━━━━━━\u001b[0m \u001b[32m226.8/226.8 kB\u001b[0m \u001b[31m3.1 MB/s\u001b[0m eta \u001b[36m0:00:00\u001b[0ma \u001b[36m0:00:01\u001b[0m\n",
      "\u001b[?25hDownloading wrapt-1.16.0-cp311-cp311-manylinux_2_5_x86_64.manylinux1_x86_64.manylinux_2_17_x86_64.manylinux2014_x86_64.whl (80 kB)\n",
      "\u001b[2K   \u001b[90m━━━━━━━━━━━━━━━━━━━━━━━━━━━━━━━━━━━━━━━━\u001b[0m \u001b[32m80.7/80.7 kB\u001b[0m \u001b[31m3.8 MB/s\u001b[0m eta \u001b[36m0:00:00\u001b[0m\n",
      "\u001b[?25hDownloading bidict-0.23.1-py3-none-any.whl (32 kB)\n",
      "Downloading python_engineio-4.9.0-py3-none-any.whl (57 kB)\n",
      "\u001b[2K   \u001b[90m━━━━━━━━━━━━━━━━━━━━━━━━━━━━━━━━━━━━━━━━\u001b[0m \u001b[32m57.5/57.5 kB\u001b[0m \u001b[31m3.5 MB/s\u001b[0m eta \u001b[36m0:00:00\u001b[0m\n",
      "\u001b[?25hDownloading simple_websocket-1.0.0-py3-none-any.whl (13 kB)\n",
      "Downloading wsproto-1.2.0-py3-none-any.whl (24 kB)\n",
      "Building wheels for collected packages: colormath\n",
      "  Building wheel for colormath (setup.py) ... \u001b[?25ldone\n",
      "\u001b[?25h  Created wheel for colormath: filename=colormath-3.0.0-py3-none-any.whl size=39405 sha256=9c6239f9a96724367e27524c96a3b6e06177c577b6f6c4b0edd66141e4bca6c6\n",
      "  Stored in directory: /home/jovyan/.cache/pip/wheels/f5/ce/f7/7039d7b57e1a27fc2f6bb2b2abed1be362eefece03caf2fb9a\n",
      "Successfully built colormath\n",
      "Installing collected packages: wsproto, wrapt, Werkzeug, itsdangerous, dnspython, colormath, bidict, affine, smart-open, simple-websocket, flask, eventlet, python-engineio, pynndescent, gensim, umap-learn, python-socketio, flask-socketio, emblaze\n",
      "Successfully installed Werkzeug-3.0.2 affine-2.4.0 bidict-0.23.1 colormath-3.0.0 dnspython-2.6.1 emblaze-0.10.6 eventlet-0.36.1 flask-3.0.3 flask-socketio-5.3.6 gensim-4.3.2 itsdangerous-2.2.0 pynndescent-0.5.12 python-engineio-4.9.0 python-socketio-5.11.2 simple-websocket-1.0.0 smart-open-7.0.4 umap-learn-0.5.6 wrapt-1.16.0 wsproto-1.2.0\n"
     ]
    }
   ],
   "source": [
    "!pip install gensim emblaze"
   ]
  },
  {
   "cell_type": "code",
   "execution_count": 2,
   "metadata": {},
   "outputs": [],
   "source": [
    "import numpy as np\n",
    "import matplotlib.pyplot as plt\n",
    "import math\n",
    "from gensim.models import KeyedVectors\n",
    "import pandas as pd\n",
    "import emblaze\n",
    "from emblaze.utils import Field, ProjectionTechnique\n",
    "from collections import defaultdict, namedtuple"
   ]
  },
  {
   "cell_type": "code",
   "execution_count": 3,
   "metadata": {},
   "outputs": [],
   "source": [
    "fname = '../data/pymde_3d_12n_bigger.w2v'\n",
    "wv = KeyedVectors.load_word2vec_format(fname)"
   ]
  },
  {
   "cell_type": "code",
   "execution_count": 4,
   "metadata": {},
   "outputs": [],
   "source": [
    "# load mapping from embedding index to score ID\n",
    "mapping_fname = f'{fname}.csv'\n",
    "mapping_df = pd.read_csv(mapping_fname)\n",
    "score_id_by_ix = mapping_df.set_index('index')['score_id'].to_dict()"
   ]
  },
  {
   "cell_type": "code",
   "execution_count": 5,
   "metadata": {},
   "outputs": [],
   "source": [
    "my_score_ids = set(pd.read_csv('../data/my_score_ids.csv')['score'].values)\n",
    "blankz_score_ids = set(pd.read_csv('../data/blankz_score_ids.csv')['score'].values)\n",
    "big_tomas_score_ids = set(pd.read_csv('../data/big_tomas_score_ids.csv')['score'].values)\n",
    "peblohh_score_ids = set(pd.read_csv('../data/peblohh_score_ids.csv')['score'].values)"
   ]
  },
  {
   "cell_type": "code",
   "execution_count": 6,
   "metadata": {},
   "outputs": [
    {
     "data": {
      "text/plain": [
       "Pandas(Index=0, score_id='1000052_DTHR', avg_pp=97.87299, num_users=3)"
      ]
     },
     "execution_count": 6,
     "metadata": {},
     "output_type": "execute_result"
    }
   ],
   "source": [
    "score_metadata = pd.read_csv('../data/score_metadata.csv')\n",
    "\n",
    "score_metadata_by_id = {}\n",
    "for row in score_metadata.itertuples():\n",
    "    score_metadata_by_id[row.score_id] = row\n",
    "\n",
    "next(iter(score_metadata_by_id.values()))"
   ]
  },
  {
   "cell_type": "code",
   "execution_count": 14,
   "metadata": {},
   "outputs": [
    {
     "data": {
      "text/plain": [
       "152541"
      ]
     },
     "execution_count": 14,
     "metadata": {},
     "output_type": "execute_result"
    }
   ],
   "source": [
    "len(score_metadata)"
   ]
  },
  {
   "cell_type": "code",
   "execution_count": 7,
   "metadata": {},
   "outputs": [
    {
     "data": {
      "text/plain": [
       "Pandas(Index=0, id=1.0, beatmapset_id=40071, beatmap_id=127363, approved=1, approved_date=Timestamp('2012-01-15 21:13:09'), last_update=Timestamp('2012-01-15 21:07:48'), total_length=233, hit_length=193, version='Posthumous', artist='DJ Okawari', title='Luv Letter', creator='nold_1702', bpm=95, source='', difficultyrating=5.31721, diff_size=4, diff_overall=8, diff_approach=9, diff_drain=6, mode=0)"
      ]
     },
     "execution_count": 7,
     "metadata": {},
     "output_type": "execute_result"
    }
   ],
   "source": [
    "# load beatmap metadata\n",
    "beatmaps_df = pd.read_parquet('../data/beatmaps.parquet')\n",
    "# beatmaps_df.head()\n",
    "\n",
    "beatmaps_by_id = {}\n",
    "for row in beatmaps_df.itertuples():\n",
    "    beatmaps_by_id[row.beatmap_id] = row\n",
    "\n",
    "next(iter(beatmaps_by_id.values()))"
   ]
  },
  {
   "cell_type": "code",
   "execution_count": 12,
   "metadata": {},
   "outputs": [],
   "source": [
    "positions = wv.vectors\n",
    "names = [score_id_by_ix[index] for index in range(len(wv.vectors))]\n",
    "# colors = [int(score_id_by_ix[index].split('_')[0]) for index in range(len(wv.vectors))]\n",
    "# score ids are in the format `{id}_{mods}`, and we color by whether the score has DT, HT, or neither\n",
    "# colors = [int('DT' in score_id_by_ix[index]) + 2 * int('HR' in score_id_by_ix[index]) for index in range(len(wv.vectors))]\n",
    "# colors = [1 if score_id_by_ix[index] in my_score_ids else 0 for index in range(len(wv.vectors))]\n",
    "colors = [max(170,min(score_metadata_by_id[score_id_by_ix[index]].avg_pp,300)) for index in range(len(wv.vectors))]\n",
    "# colors = [beatmaps_by_id[int(score_id_by_ix[index].split('_')[0])].last_update.year for index in range(len(wv.vectors))]\n",
    "# colors = [min(beatmaps_by_id[int(score_id_by_ix[index].split('_')[0])].total_length, 60*5) for index in range(len(wv.vectors))]\n",
    "sizes = [(np.log(1+score_metadata_by_id[score_id_by_ix[index]].num_users)**1.8)*0.05+0.5 for index in range(len(wv.vectors))]\n",
    "# alphas = [1 if score_id_by_ix[index] in my_score_ids else 0.1 for index in range(len(wv.vectors))]\n",
    "# alphas = [1 if 'DT' in score_id_by_ix[index] else 0 for index in range(len(wv.vectors))]\n",
    "alphas = [1 * (1 if score_id_by_ix[index] in my_score_ids else 0.11) if (score_metadata_by_id[score_id_by_ix[index]].avg_pp>100) else 0 for index in range(len(wv.vectors))]\n",
    "\n",
    "emb = emblaze.Embedding({Field.POSITION: positions, Field.NAME: names, Field.COLOR: colors, Field.RADIUS: sizes, Field.ALPHA: alphas}, n_neighbors=20,)\n",
    "emb.compute_neighbors(metric='euclidean')"
   ]
  },
  {
   "cell_type": "code",
   "execution_count": null,
   "metadata": {},
   "outputs": [
    {
     "name": "stderr",
     "output_type": "stream",
     "text": [
      "OMP: Info #276: omp_set_nested routine deprecated, please use omp_set_max_active_levels instead.\n"
     ]
    }
   ],
   "source": [
    "wv = KeyedVectors.load_word2vec_format(fname)\n",
    "emb = emblaze.Embedding({Field.POSITION: positions, Field.NAME: names, Field.COLOR: colors, Field.RADIUS: sizes, Field.ALPHA: alphas}, n_neighbors=20,)\n",
    "emb.compute_neighbors(metric='euclidean')\n",
    "\n",
    "umap_params = {\n",
    "    'densmap': False,\n",
    "    'dens_lambda': 1,\n",
    "    # 'min_dist': 0.7,\n",
    "    'metric': 'euclidean',\n",
    "}\n",
    "\n",
    "variants = emblaze.EmbeddingSet([\n",
    "    # emb.project(method=ProjectionTechnique.UMAP, n_neighbors=50, **umap_params),\n",
    "    # emb.project(method=ProjectionTechnique.UMAP, n_neighbors=80, **umap_params),\n",
    "    emb.project(method=ProjectionTechnique.UMAP, n_neighbors=200, min_dist=0.3, **umap_params),\n",
    "    emb.project(method=ProjectionTechnique.UMAP, n_neighbors=200, min_dist=0.4, **umap_params),\n",
    "    emb.project(method=ProjectionTechnique.UMAP, n_neighbors=200, min_dist=0.5, **umap_params),\n",
    "    emb.project(method=ProjectionTechnique.UMAP, n_neighbors=200, min_dist=0.6, **umap_params),\n",
    "    # emb.project(method=ProjectionTechnique.UMAP, n_neighbors=600, **umap_params),\n",
    "])\n",
    "# variants = emblaze.EmbeddingSet([\n",
    "#     emb.project(method=ProjectionTechnique.TSNE, perplexity=22, learning_rate='auto', init='pca', early_exaggeration=1.3),\n",
    "#     emb.project(method=ProjectionTechnique.TSNE, perplexity=25, learning_rate='auto', init='pca', early_exaggeration=1.3),\n",
    "#     emb.project(method=ProjectionTechnique.TSNE, perplexity=30, learning_rate='auto', init='pca', early_exaggeration=1.3),\n",
    "#     emb.project(method=ProjectionTechnique.TSNE, perplexity=35, learning_rate='auto', init='pca', early_exaggeration=1.3),\n",
    "#     emb.project(method=ProjectionTechnique.TSNE, perplexity=40, learning_rate='auto', init='pca', early_exaggeration=1.3),\n",
    "# ])\n",
    "# variants = emblaze.EmbeddingSet([\n",
    "#     emb\n",
    "# ])"
   ]
  },
  {
   "cell_type": "code",
   "execution_count": 15,
   "metadata": {},
   "outputs": [
    {
     "data": {
      "application/vnd.jupyter.widget-view+json": {
       "model_id": "e56412ac01f74fe88d17f63cf3df85df",
       "version_major": 2,
       "version_minor": 0
      },
      "text/plain": [
       "Viewer(colorScheme='turbo', data={'data': [{'_format': 'compressed', '_idtype': 'u2', '_length': 32477, 'ids':…"
      ]
     },
     "execution_count": 15,
     "metadata": {},
     "output_type": "execute_result"
    }
   ],
   "source": [
    "thumbnails = emblaze.TextThumbnails(names)\n",
    "for emb in variants.embeddings:\n",
    "    emb.set_field(Field.NAME, names)\n",
    "    emb.set_field(Field.COLOR, colors)\n",
    "    emb.set_field(Field.RADIUS, sizes)\n",
    "    emb.set_field(Field.ALPHA, alphas)\n",
    "w = emblaze.Viewer(embeddings=variants, thumbnails=thumbnails)\n",
    "w.colorScheme = 'turbo'\n",
    "w"
   ]
  }
 ],
 "metadata": {
  "kernelspec": {
   "display_name": "Python 3 (ipykernel)",
   "language": "python",
   "name": "python3"
  },
  "language_info": {
   "codemirror_mode": {
    "name": "ipython",
    "version": 3
   },
   "file_extension": ".py",
   "mimetype": "text/x-python",
   "name": "python",
   "nbconvert_exporter": "python",
   "pygments_lexer": "ipython3",
   "version": "3.11.8"
  }
 },
 "nbformat": 4,
 "nbformat_minor": 4
}
